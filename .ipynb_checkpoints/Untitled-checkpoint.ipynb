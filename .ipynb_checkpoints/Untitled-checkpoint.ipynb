{
 "cells": [
  {
   "cell_type": "code",
   "execution_count": 21,
   "id": "bcded118",
   "metadata": {},
   "outputs": [],
   "source": [
    "import networkx as netx\n",
    "import pandas as pd\n",
    "\n",
    "edges = pd.read_csv(\"edges.csv\")\n",
    "nodes = pd.read_csv(\"nodes.csv\")\n",
    "heroes_net = pd.read_csv(\"hero-network.csv\")"
   ]
  },
  {
   "cell_type": "code",
   "execution_count": 27,
   "id": "5d1747ee",
   "metadata": {},
   "outputs": [
    {
     "data": {
      "text/html": [
       "<div>\n",
       "<style scoped>\n",
       "    .dataframe tbody tr th:only-of-type {\n",
       "        vertical-align: middle;\n",
       "    }\n",
       "\n",
       "    .dataframe tbody tr th {\n",
       "        vertical-align: top;\n",
       "    }\n",
       "\n",
       "    .dataframe thead th {\n",
       "        text-align: right;\n",
       "    }\n",
       "</style>\n",
       "<table border=\"1\" class=\"dataframe\">\n",
       "  <thead>\n",
       "    <tr style=\"text-align: right;\">\n",
       "      <th></th>\n",
       "      <th>edges.csv</th>\n",
       "      <th>hero-network.csv</th>\n",
       "    </tr>\n",
       "  </thead>\n",
       "  <tbody>\n",
       "    <tr>\n",
       "      <th>0</th>\n",
       "      <td>BEACH, SPIDER</td>\n",
       "      <td>BEACH, SPIDER</td>\n",
       "    </tr>\n",
       "    <tr>\n",
       "      <th>1</th>\n",
       "      <td>BLOOD SPIDER/</td>\n",
       "      <td>BLOOD SPIDER/</td>\n",
       "    </tr>\n",
       "    <tr>\n",
       "      <th>2</th>\n",
       "      <td>MAN-SPIDER CLONE | M</td>\n",
       "      <td>MAN-SPIDER CLONE | M</td>\n",
       "    </tr>\n",
       "    <tr>\n",
       "      <th>3</th>\n",
       "      <td>MAN-SPIDER | MUTANT</td>\n",
       "      <td>MAN-SPIDER | MUTANT</td>\n",
       "    </tr>\n",
       "    <tr>\n",
       "      <th>4</th>\n",
       "      <td>SPIDER-MAN CLONE/BEN</td>\n",
       "      <td>SPIDER-MAN CLONE/BEN</td>\n",
       "    </tr>\n",
       "    <tr>\n",
       "      <th>5</th>\n",
       "      <td>SPIDER-MAN III/MARTH</td>\n",
       "      <td>SPIDER-MAN III/MARTH</td>\n",
       "    </tr>\n",
       "    <tr>\n",
       "      <th>6</th>\n",
       "      <td>SPIDER-MAN/PETER PARKER</td>\n",
       "      <td>SPIDER-MAN/PETER PAR</td>\n",
       "    </tr>\n",
       "    <tr>\n",
       "      <th>7</th>\n",
       "      <td>SPIDER-WOMAN DOPPELG</td>\n",
       "      <td>SPIDER-WOMAN DOPPELG</td>\n",
       "    </tr>\n",
       "    <tr>\n",
       "      <th>8</th>\n",
       "      <td>SPIDER-WOMAN II/JULI</td>\n",
       "      <td>SPIDER-WOMAN II/JULI</td>\n",
       "    </tr>\n",
       "    <tr>\n",
       "      <th>9</th>\n",
       "      <td>SPIDER-WOMAN IV/CHAR</td>\n",
       "      <td>SPIDER-WOMAN IV/CHAR</td>\n",
       "    </tr>\n",
       "    <tr>\n",
       "      <th>10</th>\n",
       "      <td>SPIDER-WOMAN/JESSICA</td>\n",
       "      <td>SPIDER-WOMAN/JESSICA</td>\n",
       "    </tr>\n",
       "    <tr>\n",
       "      <th>11</th>\n",
       "      <td>SPIDERCIDE</td>\n",
       "      <td>SPIDERCIDE</td>\n",
       "    </tr>\n",
       "    <tr>\n",
       "      <th>12</th>\n",
       "      <td>STEEL SPIDER/OLLIE O</td>\n",
       "      <td>STEEL SPIDER/OLLIE O</td>\n",
       "    </tr>\n",
       "  </tbody>\n",
       "</table>\n",
       "</div>"
      ],
      "text/plain": [
       "                  edges.csv      hero-network.csv\n",
       "0             BEACH, SPIDER         BEACH, SPIDER\n",
       "1             BLOOD SPIDER/         BLOOD SPIDER/\n",
       "2      MAN-SPIDER CLONE | M  MAN-SPIDER CLONE | M\n",
       "3       MAN-SPIDER | MUTANT  MAN-SPIDER | MUTANT \n",
       "4      SPIDER-MAN CLONE/BEN  SPIDER-MAN CLONE/BEN\n",
       "5      SPIDER-MAN III/MARTH  SPIDER-MAN III/MARTH\n",
       "6   SPIDER-MAN/PETER PARKER  SPIDER-MAN/PETER PAR\n",
       "7      SPIDER-WOMAN DOPPELG  SPIDER-WOMAN DOPPELG\n",
       "8      SPIDER-WOMAN II/JULI  SPIDER-WOMAN II/JULI\n",
       "9      SPIDER-WOMAN IV/CHAR  SPIDER-WOMAN IV/CHAR\n",
       "10     SPIDER-WOMAN/JESSICA  SPIDER-WOMAN/JESSICA\n",
       "11               SPIDERCIDE            SPIDERCIDE\n",
       "12     STEEL SPIDER/OLLIE O  STEEL SPIDER/OLLIE O"
      ]
     },
     "metadata": {},
     "output_type": "display_data"
    }
   ],
   "source": [
    "## Mostra nomes únicos iguais em cada tabela\n",
    "\n",
    "table = pd.DataFrame({'edges.csv':sorted([hero for hero in edges['hero'].unique() if 'SPIDER' in hero]),\n",
    "                     'hero-network.csv':sorted([hero for hero in heroes_net['hero1'].unique() if 'SPIDER' in hero])})\n",
    "\n",
    "display(table)"
   ]
  },
  {
   "cell_type": "code",
   "execution_count": 28,
   "id": "6c5c6775",
   "metadata": {},
   "outputs": [
    {
     "ename": "NameError",
     "evalue": "name 'hero_net_df' is not defined",
     "output_type": "error",
     "traceback": [
      "\u001b[1;31m---------------------------------------------------------------------------\u001b[0m",
      "\u001b[1;31mNameError\u001b[0m                                 Traceback (most recent call last)",
      "\u001b[1;32m~\\AppData\\Local\\Temp\\ipykernel_17456\\1773258100.py\u001b[0m in \u001b[0;36m<module>\u001b[1;34m\u001b[0m\n\u001b[0;32m      2\u001b[0m \u001b[1;33m\u001b[0m\u001b[0m\n\u001b[0;32m      3\u001b[0m \u001b[1;32mfor\u001b[0m \u001b[0mlinha\u001b[0m \u001b[1;32min\u001b[0m \u001b[1;33m[\u001b[0m\u001b[1;34m\"hero1\"\u001b[0m\u001b[1;33m,\u001b[0m\u001b[1;34m\"hero2\"\u001b[0m\u001b[1;33m]\u001b[0m\u001b[1;33m:\u001b[0m\u001b[1;33m\u001b[0m\u001b[1;33m\u001b[0m\u001b[0m\n\u001b[1;32m----> 4\u001b[1;33m     \u001b[0mheroes_net\u001b[0m\u001b[1;33m[\u001b[0m\u001b[0mc\u001b[0m\u001b[1;33m]\u001b[0m \u001b[1;33m=\u001b[0m \u001b[0mhero_net_df\u001b[0m\u001b[1;33m[\u001b[0m\u001b[0mc\u001b[0m\u001b[1;33m]\u001b[0m\u001b[1;33m.\u001b[0m\u001b[0mapply\u001b[0m\u001b[1;33m(\u001b[0m\u001b[1;32mlambda\u001b[0m \u001b[0mx\u001b[0m \u001b[1;33m:\u001b[0m \u001b[0mx\u001b[0m\u001b[1;33m[\u001b[0m\u001b[1;33m:\u001b[0m\u001b[1;36m20\u001b[0m\u001b[1;33m]\u001b[0m\u001b[1;33m.\u001b[0m\u001b[0msplit\u001b[0m\u001b[1;33m(\u001b[0m\u001b[1;34m\"/\"\u001b[0m\u001b[1;33m)\u001b[0m\u001b[1;33m[\u001b[0m\u001b[1;36m0\u001b[0m\u001b[1;33m]\u001b[0m\u001b[1;33m)\u001b[0m\u001b[1;33m\u001b[0m\u001b[1;33m\u001b[0m\u001b[0m\n\u001b[0m\u001b[0;32m      5\u001b[0m \u001b[1;33m\u001b[0m\u001b[0m\n\u001b[0;32m      6\u001b[0m \u001b[0medges\u001b[0m\u001b[1;33m[\u001b[0m\u001b[1;34m'hero'\u001b[0m\u001b[1;33m]\u001b[0m \u001b[1;33m=\u001b[0m \u001b[0medge_df\u001b[0m\u001b[1;33m[\u001b[0m\u001b[1;34m'hero'\u001b[0m\u001b[1;33m]\u001b[0m\u001b[1;33m.\u001b[0m\u001b[0mapply\u001b[0m\u001b[1;33m(\u001b[0m\u001b[1;32mlambda\u001b[0m \u001b[0mx\u001b[0m \u001b[1;33m:\u001b[0m \u001b[0mx\u001b[0m\u001b[1;33m[\u001b[0m\u001b[1;33m:\u001b[0m\u001b[1;36m20\u001b[0m\u001b[1;33m]\u001b[0m\u001b[1;33m.\u001b[0m\u001b[0msplit\u001b[0m\u001b[1;33m(\u001b[0m\u001b[1;34m\"/\"\u001b[0m\u001b[1;33m)\u001b[0m\u001b[1;33m[\u001b[0m\u001b[1;36m0\u001b[0m\u001b[1;33m]\u001b[0m\u001b[1;33m)\u001b[0m\u001b[1;33m\u001b[0m\u001b[1;33m\u001b[0m\u001b[0m\n",
      "\u001b[1;31mNameError\u001b[0m: name 'hero_net_df' is not defined"
     ]
    }
   ],
   "source": [
    "## Tratando os nomes\n",
    "\n",
    "for linha in [\"hero1\",\"hero2\"]:\n",
    "    heroes_net[c] = heroes_net[c].apply(lambda x : x[:20].split(\"/\")[0])\n",
    "\n",
    "edges['hero'] = edges['hero'].apply(lambda x : x[:20].split(\"/\")[0])"
   ]
  },
  {
   "cell_type": "code",
   "execution_count": null,
   "id": "e1a89e34",
   "metadata": {},
   "outputs": [],
   "source": []
  }
 ],
 "metadata": {
  "kernelspec": {
   "display_name": "Python 3 (ipykernel)",
   "language": "python",
   "name": "python3"
  },
  "language_info": {
   "codemirror_mode": {
    "name": "ipython",
    "version": 3
   },
   "file_extension": ".py",
   "mimetype": "text/x-python",
   "name": "python",
   "nbconvert_exporter": "python",
   "pygments_lexer": "ipython3",
   "version": "3.9.13"
  }
 },
 "nbformat": 4,
 "nbformat_minor": 5
}
